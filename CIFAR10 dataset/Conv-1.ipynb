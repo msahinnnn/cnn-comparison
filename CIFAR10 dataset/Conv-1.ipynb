{
 "cells": [
  {
   "cell_type": "code",
   "execution_count": 1,
   "id": "7f236051",
   "metadata": {},
   "outputs": [],
   "source": [
    "import tensorflow as tf\n",
    "from tensorflow.keras import datasets, layers, models\n",
    "import matplotlib.pyplot as plt\n",
    "import numpy as np"
   ]
  },
  {
   "cell_type": "code",
   "execution_count": 2,
   "id": "1edc4c04",
   "metadata": {
    "scrolled": false
   },
   "outputs": [
    {
     "data": {
      "text/plain": [
       "(50000, 32, 32, 3)"
      ]
     },
     "execution_count": 2,
     "metadata": {},
     "output_type": "execute_result"
    }
   ],
   "source": [
    "(X_train , y_train),(X_test , y_test) = datasets.cifar10.load_data()\n",
    "X_train.shape"
   ]
  },
  {
   "cell_type": "markdown",
   "id": "9ba917f2",
   "metadata": {},
   "source": [
    "50000 - Training Örneği <br>\n",
    "32x32 - Görsel Boyutları <br>\n",
    "3 - RGB"
   ]
  },
  {
   "cell_type": "code",
   "execution_count": 3,
   "id": "34998a33",
   "metadata": {},
   "outputs": [
    {
     "data": {
      "text/plain": [
       "(10000, 32, 32, 3)"
      ]
     },
     "execution_count": 3,
     "metadata": {},
     "output_type": "execute_result"
    }
   ],
   "source": [
    "X_test.shape"
   ]
  },
  {
   "cell_type": "markdown",
   "id": "643559ea",
   "metadata": {},
   "source": [
    "10000 - Test Örneği <br>\n",
    "32x32 - Görsel Boyutları <br>\n",
    "3 - RGB"
   ]
  },
  {
   "cell_type": "code",
   "execution_count": 4,
   "id": "9e88609e",
   "metadata": {},
   "outputs": [
    {
     "data": {
      "text/plain": [
       "array([[6],\n",
       "       [9],\n",
       "       [9],\n",
       "       [4],\n",
       "       [1]], dtype=uint8)"
      ]
     },
     "execution_count": 4,
     "metadata": {},
     "output_type": "execute_result"
    }
   ],
   "source": [
    "y_train[:5]"
   ]
  },
  {
   "cell_type": "code",
   "execution_count": 5,
   "id": "3b09a754",
   "metadata": {},
   "outputs": [
    {
     "data": {
      "text/plain": [
       "array([6, 9, 9, 4, 1], dtype=uint8)"
      ]
     },
     "execution_count": 5,
     "metadata": {},
     "output_type": "execute_result"
    }
   ],
   "source": [
    "y_train = y_train.reshape(-1,)\n",
    "y_train[:5]"
   ]
  },
  {
   "cell_type": "code",
   "execution_count": 6,
   "id": "30871c49",
   "metadata": {},
   "outputs": [],
   "source": [
    "classes = [\"airplane\",\"automobile\",\"bird\",\"cat\",\"deer\",\"dog\",\"frog\",\"horse\",\"ship\",\"truck\"]"
   ]
  },
  {
   "cell_type": "code",
   "execution_count": 7,
   "id": "6d62c03a",
   "metadata": {},
   "outputs": [
    {
     "data": {
      "text/plain": [
       "'airplane'"
      ]
     },
     "execution_count": 7,
     "metadata": {},
     "output_type": "execute_result"
    }
   ],
   "source": [
    "classes[0]"
   ]
  },
  {
   "cell_type": "code",
   "execution_count": 8,
   "id": "7a3ed1bb",
   "metadata": {},
   "outputs": [],
   "source": [
    "def gorsel_goster(X, y, index):\n",
    "    plt.figure(figsize = (15,2))\n",
    "    plt.imshow(X[index])\n",
    "    plt.xlabel(classes[y[index]])"
   ]
  },
  {
   "cell_type": "code",
   "execution_count": 9,
   "id": "51f9d37e",
   "metadata": {
    "scrolled": true
   },
   "outputs": [
    {
     "data": {
      "image/png": "[encoded data removed]",
      "text/plain": [
       "<Figure size 1080x144 with 1 Axes>"
      ]
     },
     "metadata": {
      "needs_background": "light"
     },
     "output_type": "display_data"
    }
   ],
   "source": [
    "gorsel_goster(X_train, y_train, 3)"
   ]
  },
  {
   "cell_type": "markdown",
   "id": "7eeaae8e",
   "metadata": {},
   "source": [
    "RGB kanalı 3 bölümden oluşur. R(kırmızı), G(yeşil) ve B(mavi).<br>\n",
    "Bu üç ayrı kanalın her biri 0 ile 255 arası bir değer alabilir ve böylece <br>\n",
    "renkler oluşturulur.<br>\n",
    "Verisetimizdeki her bir gorselin değerlerini 255'e bölersek, 0 ile 1<br> arasında normalizasyon yapmış oluruz."
   ]
  },
  {
   "cell_type": "code",
   "execution_count": 10,
   "id": "e1ddcc06",
   "metadata": {},
   "outputs": [],
   "source": [
    "X_train = X_train / 255\n",
    "X_test = X_test / 255"
   ]
  },
  {
   "cell_type": "code",
   "execution_count": 11,
   "id": "a7f987ea",
   "metadata": {},
   "outputs": [],
   "source": [
    "cnn = models.Sequential([\n",
    "    layers.Conv2D(filters=32, kernel_size=(3, 3), activation='relu', input_shape=(32, 32, 3)),\n",
    "    layers.MaxPooling2D((2, 2)),  \n",
    "    \n",
    "    layers.Flatten(),\n",
    "    layers.Dense(64, activation='relu'),\n",
    "    layers.Dense(10, activation='softmax')\n",
    "])"
   ]
  },
  {
   "cell_type": "code",
   "execution_count": 12,
   "id": "c133526d",
   "metadata": {},
   "outputs": [],
   "source": [
    "cnn.compile(optimizer='adam',\n",
    "              loss='sparse_categorical_crossentropy',\n",
    "              metrics=['accuracy'])"
   ]
  },
  {
   "cell_type": "code",
   "execution_count": 23,
   "id": "edf46123",
   "metadata": {
    "scrolled": false
   },
   "outputs": [
    {
     "name": "stdout",
     "output_type": "stream",
     "text": [
      "Epoch 1/100\n",
      "50/50 [==============================] - 0s 3ms/step - loss: 1.4406 - accuracy: 0.4867\n",
      "Epoch 2/100\n",
      "50/50 [==============================] - 0s 4ms/step - loss: 1.4215 - accuracy: 0.4800\n",
      "Epoch 3/100\n",
      "50/50 [==============================] - 0s 4ms/step - loss: 1.3824 - accuracy: 0.4733\n",
      "Epoch 4/100\n",
      "50/50 [==============================] - 0s 4ms/step - loss: 1.3392 - accuracy: 0.4667\n",
      "Epoch 5/100\n",
      "50/50 [==============================] - ETA: 0s - loss: 1.3587 - accuracy: 0.46 - 0s 4ms/step - loss: 1.3217 - accuracy: 0.4867\n",
      "Epoch 6/100\n",
      "50/50 [==============================] - 0s 3ms/step - loss: 1.3229 - accuracy: 0.5333\n",
      "Epoch 7/100\n",
      "50/50 [==============================] - 0s 3ms/step - loss: 1.3189 - accuracy: 0.6200\n",
      "Epoch 8/100\n",
      "50/50 [==============================] - 0s 4ms/step - loss: 1.5880 - accuracy: 0.4467\n",
      "Epoch 9/100\n",
      "50/50 [==============================] - 0s 4ms/step - loss: 1.2406 - accuracy: 0.5467\n",
      "Epoch 10/100\n",
      "50/50 [==============================] - 0s 4ms/step - loss: 1.4371 - accuracy: 0.5267\n",
      "Epoch 11/100\n",
      "50/50 [==============================] - 0s 4ms/step - loss: 1.5104 - accuracy: 0.4200\n",
      "Epoch 12/100\n",
      "50/50 [==============================] - 0s 4ms/step - loss: 1.5579 - accuracy: 0.3933\n",
      "Epoch 13/100\n",
      "50/50 [==============================] - 0s 4ms/step - loss: 1.5395 - accuracy: 0.4933\n",
      "Epoch 14/100\n",
      "50/50 [==============================] - 0s 3ms/step - loss: 1.3717 - accuracy: 0.4733\n",
      "Epoch 15/100\n",
      "50/50 [==============================] - 0s 4ms/step - loss: 1.4708 - accuracy: 0.4667\n",
      "Epoch 16/100\n",
      "50/50 [==============================] - 0s 3ms/step - loss: 1.4808 - accuracy: 0.4667\n",
      "Epoch 17/100\n",
      "50/50 [==============================] - 0s 3ms/step - loss: 1.3182 - accuracy: 0.5400\n",
      "Epoch 18/100\n",
      "50/50 [==============================] - 0s 4ms/step - loss: 1.6434 - accuracy: 0.4200\n",
      "Epoch 19/100\n",
      "50/50 [==============================] - 0s 4ms/step - loss: 1.4549 - accuracy: 0.4933\n",
      "Epoch 20/100\n",
      "50/50 [==============================] - 0s 4ms/step - loss: 1.3960 - accuracy: 0.5000\n",
      "Epoch 21/100\n",
      "50/50 [==============================] - 0s 4ms/step - loss: 1.4631 - accuracy: 0.4933\n",
      "Epoch 22/100\n",
      "50/50 [==============================] - 0s 4ms/step - loss: 1.5755 - accuracy: 0.5000\n",
      "Epoch 23/100\n",
      "50/50 [==============================] - 0s 3ms/step - loss: 1.5052 - accuracy: 0.4667\n",
      "Epoch 24/100\n",
      "50/50 [==============================] - 0s 3ms/step - loss: 1.3611 - accuracy: 0.5267\n",
      "Epoch 25/100\n",
      "50/50 [==============================] - 0s 3ms/step - loss: 1.4826 - accuracy: 0.4600\n",
      "Epoch 26/100\n",
      "50/50 [==============================] - 0s 4ms/step - loss: 1.6180 - accuracy: 0.4533\n",
      "Epoch 27/100\n",
      "50/50 [==============================] - 0s 3ms/step - loss: 1.5191 - accuracy: 0.4200\n",
      "Epoch 28/100\n",
      "50/50 [==============================] - 0s 3ms/step - loss: 1.4487 - accuracy: 0.4667\n",
      "Epoch 29/100\n",
      "50/50 [==============================] - 0s 3ms/step - loss: 1.4312 - accuracy: 0.5200\n",
      "Epoch 30/100\n",
      "50/50 [==============================] - 0s 4ms/step - loss: 1.4455 - accuracy: 0.4733\n",
      "Epoch 31/100\n",
      "50/50 [==============================] - 0s 4ms/step - loss: 1.3228 - accuracy: 0.6067\n",
      "Epoch 32/100\n",
      "50/50 [==============================] - ETA: 0s - loss: 1.4879 - accuracy: 0.44 - 0s 4ms/step - loss: 1.4358 - accuracy: 0.4867\n",
      "Epoch 33/100\n",
      "50/50 [==============================] - 0s 4ms/step - loss: 1.4667 - accuracy: 0.5400\n",
      "Epoch 34/100\n",
      "50/50 [==============================] - 0s 3ms/step - loss: 1.4491 - accuracy: 0.4800\n",
      "Epoch 35/100\n",
      "50/50 [==============================] - 0s 3ms/step - loss: 1.5311 - accuracy: 0.3933\n",
      "Epoch 36/100\n",
      "50/50 [==============================] - 0s 3ms/step - loss: 1.3972 - accuracy: 0.4933\n",
      "Epoch 37/100\n",
      "50/50 [==============================] - 0s 4ms/step - loss: 1.4099 - accuracy: 0.5600\n",
      "Epoch 38/100\n",
      "50/50 [==============================] - 0s 4ms/step - loss: 1.5013 - accuracy: 0.4267\n",
      "Epoch 39/100\n",
      "50/50 [==============================] - 0s 3ms/step - loss: 1.2970 - accuracy: 0.5133\n",
      "Epoch 40/100\n",
      "50/50 [==============================] - 0s 4ms/step - loss: 1.3323 - accuracy: 0.5467\n",
      "Epoch 41/100\n",
      "50/50 [==============================] - 0s 4ms/step - loss: 1.3873 - accuracy: 0.5133\n",
      "Epoch 42/100\n",
      "50/50 [==============================] - 0s 4ms/step - loss: 1.4981 - accuracy: 0.5000\n",
      "Epoch 43/100\n",
      "50/50 [==============================] - 0s 5ms/step - loss: 1.3222 - accuracy: 0.5000\n",
      "Epoch 44/100\n",
      "50/50 [==============================] - 0s 4ms/step - loss: 1.3531 - accuracy: 0.4867\n",
      "Epoch 45/100\n",
      "50/50 [==============================] - 0s 4ms/step - loss: 1.4318 - accuracy: 0.4800\n",
      "Epoch 46/100\n",
      "50/50 [==============================] - 0s 4ms/step - loss: 1.3715 - accuracy: 0.4733\n",
      "Epoch 47/100\n",
      "50/50 [==============================] - 0s 3ms/step - loss: 1.4491 - accuracy: 0.4800\n",
      "Epoch 48/100\n",
      "50/50 [==============================] - 0s 3ms/step - loss: 1.4547 - accuracy: 0.5333\n",
      "Epoch 49/100\n",
      "50/50 [==============================] - 0s 4ms/step - loss: 1.4127 - accuracy: 0.5000\n",
      "Epoch 50/100\n",
      "50/50 [==============================] - 0s 3ms/step - loss: 1.4938 - accuracy: 0.4533\n",
      "Epoch 51/100\n",
      "50/50 [==============================] - 0s 3ms/step - loss: 1.3011 - accuracy: 0.5667\n",
      "Epoch 52/100\n",
      "50/50 [==============================] - 0s 3ms/step - loss: 1.2922 - accuracy: 0.5467\n",
      "Epoch 53/100\n",
      "50/50 [==============================] - 0s 3ms/step - loss: 1.3783 - accuracy: 0.4467\n",
      "Epoch 54/100\n",
      "50/50 [==============================] - 0s 4ms/step - loss: 1.4443 - accuracy: 0.4800\n",
      "Epoch 55/100\n",
      "50/50 [==============================] - 0s 3ms/step - loss: 1.4078 - accuracy: 0.4600\n",
      "Epoch 56/100\n",
      "50/50 [==============================] - 0s 3ms/step - loss: 1.3725 - accuracy: 0.4867\n",
      "Epoch 57/100\n",
      "50/50 [==============================] - 0s 3ms/step - loss: 1.4603 - accuracy: 0.4867\n",
      "Epoch 58/100\n",
      "50/50 [==============================] - 0s 3ms/step - loss: 1.2559 - accuracy: 0.6067\n",
      "Epoch 59/100\n",
      "50/50 [==============================] - 0s 3ms/step - loss: 1.3957 - accuracy: 0.4800\n",
      "Epoch 60/100\n",
      "50/50 [==============================] - 0s 3ms/step - loss: 1.3220 - accuracy: 0.5400\n",
      "Epoch 61/100\n",
      "50/50 [==============================] - 0s 3ms/step - loss: 1.3914 - accuracy: 0.4600\n",
      "Epoch 62/100\n",
      "50/50 [==============================] - 0s 3ms/step - loss: 1.5410 - accuracy: 0.4333\n",
      "Epoch 63/100\n",
      "50/50 [==============================] - 0s 4ms/step - loss: 1.4601 - accuracy: 0.4867\n",
      "Epoch 64/100\n",
      "50/50 [==============================] - 0s 4ms/step - loss: 1.3348 - accuracy: 0.5533\n",
      "Epoch 65/100\n",
      "50/50 [==============================] - 0s 3ms/step - loss: 1.4849 - accuracy: 0.4333\n",
      "Epoch 66/100\n",
      "50/50 [==============================] - 0s 3ms/step - loss: 1.4786 - accuracy: 0.4933\n",
      "Epoch 67/100\n",
      "50/50 [==============================] - 0s 3ms/step - loss: 1.3212 - accuracy: 0.5333\n",
      "Epoch 68/100\n",
      "50/50 [==============================] - 0s 3ms/step - loss: 1.3409 - accuracy: 0.5267\n",
      "Epoch 69/100\n",
      "50/50 [==============================] - 0s 3ms/step - loss: 1.4116 - accuracy: 0.4733\n",
      "Epoch 70/100\n",
      "50/50 [==============================] - 0s 3ms/step - loss: 1.3217 - accuracy: 0.5333\n",
      "Epoch 71/100\n",
      "50/50 [==============================] - 0s 3ms/step - loss: 1.3602 - accuracy: 0.5467\n",
      "Epoch 72/100\n",
      "50/50 [==============================] - 0s 3ms/step - loss: 1.4639 - accuracy: 0.5200\n",
      "Epoch 73/100\n",
      "50/50 [==============================] - 0s 4ms/step - loss: 1.3186 - accuracy: 0.4867\n",
      "Epoch 74/100\n",
      "50/50 [==============================] - 0s 3ms/step - loss: 1.3899 - accuracy: 0.5600\n",
      "Epoch 75/100\n",
      "50/50 [==============================] - 0s 4ms/step - loss: 1.4611 - accuracy: 0.5000\n",
      "Epoch 76/100\n",
      "50/50 [==============================] - 0s 4ms/step - loss: 1.4228 - accuracy: 0.4600\n",
      "Epoch 77/100\n",
      "50/50 [==============================] - 0s 3ms/step - loss: 1.3953 - accuracy: 0.4933\n",
      "Epoch 78/100\n",
      "50/50 [==============================] - 0s 3ms/step - loss: 1.4335 - accuracy: 0.4667\n",
      "Epoch 79/100\n",
      "50/50 [==============================] - 0s 3ms/step - loss: 1.4500 - accuracy: 0.4867\n",
      "Epoch 80/100\n",
      "50/50 [==============================] - 0s 3ms/step - loss: 1.3856 - accuracy: 0.5533\n",
      "Epoch 81/100\n",
      "50/50 [==============================] - 0s 4ms/step - loss: 1.3879 - accuracy: 0.5000\n",
      "Epoch 82/100\n",
      "50/50 [==============================] - 0s 3ms/step - loss: 1.4208 - accuracy: 0.4533\n",
      "Epoch 83/100\n",
      "50/50 [==============================] - 0s 4ms/step - loss: 1.4873 - accuracy: 0.4467\n",
      "Epoch 84/100\n",
      "50/50 [==============================] - 0s 4ms/step - loss: 1.4071 - accuracy: 0.5067\n",
      "Epoch 85/100\n",
      "50/50 [==============================] - 0s 3ms/step - loss: 1.4162 - accuracy: 0.4867\n",
      "Epoch 86/100\n",
      "50/50 [==============================] - 0s 4ms/step - loss: 1.2431 - accuracy: 0.5333\n",
      "Epoch 87/100\n",
      "50/50 [==============================] - 0s 4ms/step - loss: 1.3362 - accuracy: 0.5400\n",
      "Epoch 88/100\n",
      "50/50 [==============================] - 0s 4ms/step - loss: 1.4760 - accuracy: 0.4667\n",
      "Epoch 89/100\n",
      "50/50 [==============================] - 0s 3ms/step - loss: 1.5609 - accuracy: 0.4667\n",
      "Epoch 90/100\n",
      "50/50 [==============================] - 0s 3ms/step - loss: 1.3624 - accuracy: 0.5267\n",
      "Epoch 91/100\n",
      "50/50 [==============================] - 0s 3ms/step - loss: 1.3203 - accuracy: 0.5067\n",
      "Epoch 92/100\n",
      "50/50 [==============================] - 0s 3ms/step - loss: 1.4256 - accuracy: 0.5333\n",
      "Epoch 93/100\n",
      "50/50 [==============================] - 0s 3ms/step - loss: 1.4702 - accuracy: 0.4667\n",
      "Epoch 94/100\n",
      "50/50 [==============================] - 0s 4ms/step - loss: 1.4042 - accuracy: 0.5200\n",
      "Epoch 95/100\n",
      "50/50 [==============================] - 0s 3ms/step - loss: 1.2549 - accuracy: 0.5800\n",
      "Epoch 96/100\n",
      "50/50 [==============================] - 0s 3ms/step - loss: 1.3594 - accuracy: 0.5133\n",
      "Epoch 97/100\n",
      "50/50 [==============================] - 0s 3ms/step - loss: 1.3720 - accuracy: 0.5067\n",
      "Epoch 98/100\n",
      "50/50 [==============================] - 0s 4ms/step - loss: 1.4501 - accuracy: 0.5067\n",
      "Epoch 99/100\n",
      "50/50 [==============================] - 0s 3ms/step - loss: 1.4092 - accuracy: 0.5267\n",
      "Epoch 100/100\n",
      "50/50 [==============================] - 0s 4ms/step - loss: 1.4958 - accuracy: 0.4467\n"
     ]
    }
   ],
   "source": [
    "history1 = cnn.fit(X_train, y_train, epochs=100, steps_per_epoch = 50, batch_size = 3)"
   ]
  },
  {
   "cell_type": "code",
   "execution_count": 14,
   "id": "e6c574fe",
   "metadata": {},
   "outputs": [
    {
     "name": "stdout",
     "output_type": "stream",
     "text": [
      "313/313 [==============================] - 1s 3ms/step - loss: 1.4421 - accuracy: 0.4910\n"
     ]
    },
    {
     "data": {
      "text/plain": [
       "[1.4420700073242188, 0.4909999966621399]"
      ]
     },
     "execution_count": 14,
     "metadata": {},
     "output_type": "execute_result"
    }
   ],
   "source": [
    "cnn.evaluate(X_test,y_test)"
   ]
  },
  {
   "cell_type": "code",
   "execution_count": 15,
   "id": "425211ba",
   "metadata": {},
   "outputs": [
    {
     "data": {
      "text/plain": [
       "array([[8.7722847e-03, 9.1130816e-04, 8.6289629e-02, 4.5914552e-01,\n",
       "        1.0434080e-01, 2.6656434e-01, 5.6806419e-02, 1.1073265e-02,\n",
       "        4.7843894e-03, 1.3119834e-03],\n",
       "       [1.4496610e-01, 1.5510891e-01, 6.3135359e-04, 1.6547216e-04,\n",
       "        6.9622634e-05, 1.2235076e-05, 3.3398617e-05, 3.8381149e-06,\n",
       "        6.4120245e-01, 5.7806596e-02],\n",
       "       [2.6985297e-01, 8.4360853e-02, 4.4607587e-02, 8.9490719e-02,\n",
       "        1.6844239e-02, 2.5212910e-02, 6.0294289e-03, 5.9630722e-03,\n",
       "        3.8349441e-01, 7.4143738e-02],\n",
       "       [4.8296180e-01, 1.4993618e-02, 4.1721411e-02, 8.4517412e-03,\n",
       "        2.1375585e-02, 1.5486666e-03, 1.4024152e-03, 3.8937782e-03,\n",
       "        4.0496653e-01, 1.8684402e-02],\n",
       "       [5.1076603e-03, 2.5342365e-03, 1.2273740e-01, 2.3401138e-01,\n",
       "        2.1049251e-01, 1.9017768e-01, 1.7104021e-01, 5.4658644e-02,\n",
       "        3.8776405e-03, 5.3626406e-03]], dtype=float32)"
      ]
     },
     "execution_count": 15,
     "metadata": {},
     "output_type": "execute_result"
    }
   ],
   "source": [
    "y_pred = cnn.predict(X_test)\n",
    "y_pred[:5]"
   ]
  },
  {
   "cell_type": "code",
   "execution_count": 16,
   "id": "7c02b065",
   "metadata": {},
   "outputs": [
    {
     "data": {
      "text/plain": [
       "[3, 8, 8, 0, 3]"
      ]
     },
     "execution_count": 16,
     "metadata": {},
     "output_type": "execute_result"
    }
   ],
   "source": [
    "y_classes = [np.argmax(i) for i in y_pred]\n",
    "y_classes[:5]"
   ]
  },
  {
   "cell_type": "code",
   "execution_count": 17,
   "id": "dafc9186",
   "metadata": {},
   "outputs": [
    {
     "data": {
      "text/plain": [
       "array([3, 8, 8, 0, 6], dtype=uint8)"
      ]
     },
     "execution_count": 17,
     "metadata": {},
     "output_type": "execute_result"
    }
   ],
   "source": [
    "y_test = y_test.reshape(-1,)\n",
    "y_test[:5]"
   ]
  },
  {
   "cell_type": "code",
   "execution_count": 27,
   "id": "f0735ab2",
   "metadata": {
    "scrolled": true
   },
   "outputs": [
    {
     "name": "stdout",
     "output_type": "stream",
     "text": [
      "Sınıflandırma Sonucu : \n",
      "               precision    recall  f1-score   support\n",
      "\n",
      "           0       0.56      0.58      0.57      1000\n",
      "           1       0.70      0.64      0.67      1000\n",
      "           2       0.36      0.16      0.22      1000\n",
      "           3       0.30      0.39      0.34      1000\n",
      "           4       0.34      0.50      0.40      1000\n",
      "           5       0.41      0.41      0.41      1000\n",
      "           6       0.49      0.58      0.53      1000\n",
      "           7       0.59      0.56      0.57      1000\n",
      "           8       0.65      0.61      0.63      1000\n",
      "           9       0.64      0.48      0.55      1000\n",
      "\n",
      "    accuracy                           0.49     10000\n",
      "   macro avg       0.50      0.49      0.49     10000\n",
      "weighted avg       0.50      0.49      0.49     10000\n",
      "\n"
     ]
    }
   ],
   "source": [
    "from sklearn.metrics import classification_report\n",
    "print(\"Sınıflandırma Sonucu : \\n\" , classification_report(y_test , y_classes))"
   ]
  },
  {
   "cell_type": "code",
   "execution_count": 30,
   "id": "623624a5",
   "metadata": {},
   "outputs": [
    {
     "data": {
      "text/plain": [
       "<Figure size 432x288 with 0 Axes>"
      ]
     },
     "execution_count": 30,
     "metadata": {},
     "output_type": "execute_result"
    },
    {
     "data": {
      "image/png": "[encoded data removed]",
      "text/plain": [
       "<Figure size 432x288 with 1 Axes>"
      ]
     },
     "metadata": {
      "needs_background": "light"
     },
     "output_type": "display_data"
    },
    {
     "data": {
      "text/plain": [
       "<Figure size 432x288 with 0 Axes>"
      ]
     },
     "metadata": {},
     "output_type": "display_data"
    }
   ],
   "source": [
    "import matplotlib.pyplot as plt\n",
    "%matplotlib inline\n",
    "\n",
    "accuracy = history1.history['accuracy']\n",
    "loss = history1.history['loss']\n",
    "epochs = range(len(accuracy))\n",
    "\n",
    "plt.plot(epochs, accuracy, 'bo', label='Training accuracy')\n",
    "plt.title('Training ve Validation Accuracy')\n",
    "plt.legend()\n",
    "plt.figure()"
   ]
  },
  {
   "cell_type": "code",
   "execution_count": null,
   "id": "2b82be1c",
   "metadata": {},
   "outputs": [],
   "source": []
  }
 ],
 "metadata": {
  "kernelspec": {
   "display_name": "Python 3 (ipykernel)",
   "language": "python",
   "name": "python3"
  },
  "language_info": {
   "codemirror_mode": {
    "name": "ipython",
    "version": 3
   },
   "file_extension": ".py",
   "mimetype": "text/x-python",
   "name": "python",
   "nbconvert_exporter": "python",
   "pygments_lexer": "ipython3",
   "version": "3.8.12"
  }
 },
 "nbformat": 4,
 "nbformat_minor": 5
}
