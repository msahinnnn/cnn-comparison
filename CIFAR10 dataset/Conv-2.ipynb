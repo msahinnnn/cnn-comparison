{
 "cells": [
  {
   "cell_type": "code",
   "execution_count": 21,
   "id": "7f236051",
   "metadata": {},
   "outputs": [],
   "source": [
    "import tensorflow as tf\n",
    "from tensorflow.keras import datasets, layers, models\n",
    "import matplotlib.pyplot as plt\n",
    "import numpy as np"
   ]
  },
  {
   "cell_type": "code",
   "execution_count": 22,
   "id": "bc2252b2",
   "metadata": {},
   "outputs": [
    {
     "data": {
      "text/plain": [
       "(50000, 32, 32, 3)"
      ]
     },
     "execution_count": 22,
     "metadata": {},
     "output_type": "execute_result"
    }
   ],
   "source": [
    "(X_train , y_train),(X_test , y_test) = datasets.cifar10.load_data()\n",
    "X_train.shape"
   ]
  },
  {
   "cell_type": "markdown",
   "id": "12275e37",
   "metadata": {},
   "source": [
    "50000 - Training Örneği <br>\n",
    "32x32 - Görsel Boyutları <br>\n",
    "3 - RGB"
   ]
  },
  {
   "cell_type": "code",
   "execution_count": 23,
   "id": "d4ed0067",
   "metadata": {},
   "outputs": [
    {
     "data": {
      "text/plain": [
       "(10000, 32, 32, 3)"
      ]
     },
     "execution_count": 23,
     "metadata": {},
     "output_type": "execute_result"
    }
   ],
   "source": [
    "X_test.shape"
   ]
  },
  {
   "cell_type": "markdown",
   "id": "5c9e123f",
   "metadata": {},
   "source": [
    "10000 - Test Örneği <br>\n",
    "32x32 - Görsel Boyutları <br>\n",
    "3 - RGB"
   ]
  },
  {
   "cell_type": "code",
   "execution_count": 24,
   "id": "63c0eb1a",
   "metadata": {},
   "outputs": [
    {
     "data": {
      "text/plain": [
       "array([[6],\n",
       "       [9],\n",
       "       [9],\n",
       "       [4],\n",
       "       [1]], dtype=uint8)"
      ]
     },
     "execution_count": 24,
     "metadata": {},
     "output_type": "execute_result"
    }
   ],
   "source": [
    "y_train[:5]"
   ]
  },
  {
   "cell_type": "code",
   "execution_count": 25,
   "id": "0635250d",
   "metadata": {},
   "outputs": [
    {
     "data": {
      "text/plain": [
       "array([6, 9, 9, 4, 1], dtype=uint8)"
      ]
     },
     "execution_count": 25,
     "metadata": {},
     "output_type": "execute_result"
    }
   ],
   "source": [
    "y_train = y_train.reshape(-1,)\n",
    "y_train[:5]"
   ]
  },
  {
   "cell_type": "code",
   "execution_count": 26,
   "id": "e36222e7",
   "metadata": {},
   "outputs": [],
   "source": [
    "classes = [\"airplane\",\"automobile\",\"bird\",\"cat\",\"deer\",\"dog\",\"frog\",\"horse\",\"ship\",\"truck\"]"
   ]
  },
  {
   "cell_type": "code",
   "execution_count": 27,
   "id": "e0391ada",
   "metadata": {},
   "outputs": [
    {
     "data": {
      "text/plain": [
       "'airplane'"
      ]
     },
     "execution_count": 27,
     "metadata": {},
     "output_type": "execute_result"
    }
   ],
   "source": [
    "classes[0]"
   ]
  },
  {
   "cell_type": "code",
   "execution_count": 28,
   "id": "5acba66b",
   "metadata": {},
   "outputs": [],
   "source": [
    "def gorsel_goster(X, y, index):\n",
    "    plt.figure(figsize = (15,2))\n",
    "    plt.imshow(X[index])\n",
    "    plt.xlabel(classes[y[index]])"
   ]
  },
  {
   "cell_type": "code",
   "execution_count": 29,
   "id": "9e4ee0a7",
   "metadata": {},
   "outputs": [
    {
     "data": {
      "image/png": "[encoded data removed]",
      "text/plain": [
       "<Figure size 1080x144 with 1 Axes>"
      ]
     },
     "metadata": {
      "needs_background": "light"
     },
     "output_type": "display_data"
    }
   ],
   "source": [
    "gorsel_goster(X_train, y_train, 3)"
   ]
  },
  {
   "cell_type": "markdown",
   "id": "a7565e8f",
   "metadata": {},
   "source": [
    "RGB kanalı 3 bölümden oluşur. R(kırmızı), G(yeşil) ve B(mavi).<br>\n",
    "Bu üç ayrı kanalın her biri 0 ile 255 arası bir değer alabilir ve böylece <br>\n",
    "renkler oluşturulur.<br>\n",
    "Verisetimizdeki her bir gorselin değerlerini 255'e bölersek, 0 ile 1<br> arasında normalizasyon yapmış oluruz."
   ]
  },
  {
   "cell_type": "code",
   "execution_count": 30,
   "id": "129774e2",
   "metadata": {},
   "outputs": [],
   "source": [
    "X_train = X_train / 255\n",
    "X_test = X_test / 255"
   ]
  },
  {
   "cell_type": "code",
   "execution_count": 31,
   "id": "da0e194b",
   "metadata": {},
   "outputs": [],
   "source": [
    "cnn = models.Sequential([\n",
    "    layers.Conv2D(filters=32, kernel_size=(3, 3), activation='relu', input_shape=(32, 32, 3)),\n",
    "    layers.MaxPooling2D((2, 2)),\n",
    "    \n",
    "    layers.Conv2D(filters=64, kernel_size=(3, 3), activation='relu'),\n",
    "    layers.MaxPooling2D((2, 2)),\n",
    "    \n",
    "    layers.Flatten(),\n",
    "    layers.Dense(64, activation='relu'),\n",
    "    layers.Dense(10, activation='softmax')\n",
    "])"
   ]
  },
  {
   "cell_type": "code",
   "execution_count": 32,
   "id": "a030bea8",
   "metadata": {},
   "outputs": [],
   "source": [
    "cnn.compile(optimizer='adam',\n",
    "              loss='sparse_categorical_crossentropy',\n",
    "              metrics=['accuracy'])"
   ]
  },
  {
   "cell_type": "code",
   "execution_count": 33,
   "id": "988dfc61",
   "metadata": {
    "scrolled": false
   },
   "outputs": [
    {
     "name": "stdout",
     "output_type": "stream",
     "text": [
      "Epoch 1/100\n",
      "50/50 [==============================] - 0s 3ms/step - loss: 2.3232 - accuracy: 0.0867\n",
      "Epoch 2/100\n",
      "50/50 [==============================] - 0s 3ms/step - loss: 2.2927 - accuracy: 0.1267\n",
      "Epoch 3/100\n",
      "50/50 [==============================] - 0s 3ms/step - loss: 2.2879 - accuracy: 0.0733\n",
      "Epoch 4/100\n",
      "50/50 [==============================] - 0s 3ms/step - loss: 2.2453 - accuracy: 0.1600\n",
      "Epoch 5/100\n",
      "50/50 [==============================] - 0s 3ms/step - loss: 2.1293 - accuracy: 0.2000\n",
      "Epoch 6/100\n",
      "50/50 [==============================] - 0s 3ms/step - loss: 2.0958 - accuracy: 0.1867\n",
      "Epoch 7/100\n",
      "50/50 [==============================] - 0s 3ms/step - loss: 2.0906 - accuracy: 0.2400\n",
      "Epoch 8/100\n",
      "50/50 [==============================] - 0s 3ms/step - loss: 2.0841 - accuracy: 0.2400\n",
      "Epoch 9/100\n",
      "50/50 [==============================] - 0s 3ms/step - loss: 2.0778 - accuracy: 0.1733\n",
      "Epoch 10/100\n",
      "50/50 [==============================] - 0s 3ms/step - loss: 1.9997 - accuracy: 0.2400\n",
      "Epoch 11/100\n",
      "50/50 [==============================] - 0s 3ms/step - loss: 1.9548 - accuracy: 0.2933\n",
      "Epoch 12/100\n",
      "50/50 [==============================] - 0s 3ms/step - loss: 1.9678 - accuracy: 0.2933\n",
      "Epoch 13/100\n",
      "50/50 [==============================] - 0s 3ms/step - loss: 1.9768 - accuracy: 0.2733\n",
      "Epoch 14/100\n",
      "50/50 [==============================] - 0s 3ms/step - loss: 1.8487 - accuracy: 0.2733: 0s - loss: 1.8618 - accuracy: 0.28\n",
      "Epoch 15/100\n",
      "50/50 [==============================] - 0s 3ms/step - loss: 1.8185 - accuracy: 0.2400\n",
      "Epoch 16/100\n",
      "50/50 [==============================] - 0s 3ms/step - loss: 1.8966 - accuracy: 0.2867\n",
      "Epoch 17/100\n",
      "50/50 [==============================] - 0s 3ms/step - loss: 1.8247 - accuracy: 0.3600\n",
      "Epoch 18/100\n",
      "50/50 [==============================] - 0s 3ms/step - loss: 1.8850 - accuracy: 0.3667\n",
      "Epoch 19/100\n",
      "50/50 [==============================] - 0s 3ms/step - loss: 1.8713 - accuracy: 0.3267\n",
      "Epoch 20/100\n",
      "50/50 [==============================] - 0s 3ms/step - loss: 1.8648 - accuracy: 0.3400\n",
      "Epoch 21/100\n",
      "50/50 [==============================] - 0s 3ms/step - loss: 1.6843 - accuracy: 0.3800\n",
      "Epoch 22/100\n",
      "50/50 [==============================] - 0s 3ms/step - loss: 1.8152 - accuracy: 0.3000\n",
      "Epoch 23/100\n",
      "50/50 [==============================] - 0s 3ms/step - loss: 1.9340 - accuracy: 0.2667\n",
      "Epoch 24/100\n",
      "50/50 [==============================] - 0s 3ms/step - loss: 1.7366 - accuracy: 0.3400\n",
      "Epoch 25/100\n",
      "50/50 [==============================] - 0s 3ms/step - loss: 1.7417 - accuracy: 0.3867\n",
      "Epoch 26/100\n",
      "50/50 [==============================] - 0s 3ms/step - loss: 1.6894 - accuracy: 0.3933\n",
      "Epoch 27/100\n",
      "50/50 [==============================] - 0s 3ms/step - loss: 1.8444 - accuracy: 0.2933\n",
      "Epoch 28/100\n",
      "50/50 [==============================] - 0s 3ms/step - loss: 1.6634 - accuracy: 0.3467\n",
      "Epoch 29/100\n",
      "50/50 [==============================] - 0s 3ms/step - loss: 1.5731 - accuracy: 0.3867\n",
      "Epoch 30/100\n",
      "50/50 [==============================] - 0s 3ms/step - loss: 1.7307 - accuracy: 0.3800\n",
      "Epoch 31/100\n",
      "50/50 [==============================] - 0s 4ms/step - loss: 1.7811 - accuracy: 0.3333\n",
      "Epoch 32/100\n",
      "50/50 [==============================] - 0s 3ms/step - loss: 1.6965 - accuracy: 0.3800\n",
      "Epoch 33/100\n",
      "50/50 [==============================] - 0s 3ms/step - loss: 1.6000 - accuracy: 0.4467\n",
      "Epoch 34/100\n",
      "50/50 [==============================] - 0s 3ms/step - loss: 1.6356 - accuracy: 0.4600\n",
      "Epoch 35/100\n",
      "50/50 [==============================] - 0s 3ms/step - loss: 1.6384 - accuracy: 0.3600\n",
      "Epoch 36/100\n",
      "50/50 [==============================] - 0s 3ms/step - loss: 1.6417 - accuracy: 0.3600\n",
      "Epoch 37/100\n",
      "50/50 [==============================] - 0s 3ms/step - loss: 1.7579 - accuracy: 0.3133\n",
      "Epoch 38/100\n",
      "50/50 [==============================] - 0s 3ms/step - loss: 1.7449 - accuracy: 0.3800\n",
      "Epoch 39/100\n",
      "50/50 [==============================] - 0s 3ms/step - loss: 1.5062 - accuracy: 0.4200\n",
      "Epoch 40/100\n",
      "50/50 [==============================] - 0s 3ms/step - loss: 1.7103 - accuracy: 0.3467\n",
      "Epoch 41/100\n",
      "50/50 [==============================] - 0s 3ms/step - loss: 1.5640 - accuracy: 0.3867\n",
      "Epoch 42/100\n",
      "50/50 [==============================] - 0s 3ms/step - loss: 1.4983 - accuracy: 0.4133\n",
      "Epoch 43/100\n",
      "50/50 [==============================] - 0s 3ms/step - loss: 1.6881 - accuracy: 0.3867\n",
      "Epoch 44/100\n",
      "50/50 [==============================] - 0s 3ms/step - loss: 1.5130 - accuracy: 0.4333\n",
      "Epoch 45/100\n",
      "50/50 [==============================] - 0s 3ms/step - loss: 1.7060 - accuracy: 0.3200\n",
      "Epoch 46/100\n",
      "50/50 [==============================] - 0s 3ms/step - loss: 1.6156 - accuracy: 0.4267\n",
      "Epoch 47/100\n",
      "50/50 [==============================] - 0s 3ms/step - loss: 1.5270 - accuracy: 0.4933\n",
      "Epoch 48/100\n",
      "50/50 [==============================] - 0s 3ms/step - loss: 1.6167 - accuracy: 0.4200\n",
      "Epoch 49/100\n",
      "50/50 [==============================] - 0s 3ms/step - loss: 1.6423 - accuracy: 0.4333\n",
      "Epoch 50/100\n",
      "50/50 [==============================] - 0s 3ms/step - loss: 1.5880 - accuracy: 0.4200\n",
      "Epoch 51/100\n",
      "50/50 [==============================] - 0s 3ms/step - loss: 1.6583 - accuracy: 0.4067\n",
      "Epoch 52/100\n",
      "50/50 [==============================] - 0s 3ms/step - loss: 1.5393 - accuracy: 0.4933\n",
      "Epoch 53/100\n",
      "50/50 [==============================] - 0s 3ms/step - loss: 1.4796 - accuracy: 0.4533\n",
      "Epoch 54/100\n",
      "50/50 [==============================] - 0s 3ms/step - loss: 1.5692 - accuracy: 0.3933\n",
      "Epoch 55/100\n",
      "50/50 [==============================] - 0s 3ms/step - loss: 1.5053 - accuracy: 0.4733\n",
      "Epoch 56/100\n",
      "50/50 [==============================] - 0s 3ms/step - loss: 1.5005 - accuracy: 0.4467\n",
      "Epoch 57/100\n",
      "50/50 [==============================] - 0s 3ms/step - loss: 1.5171 - accuracy: 0.4800\n",
      "Epoch 58/100\n",
      "50/50 [==============================] - 0s 3ms/step - loss: 1.5014 - accuracy: 0.4733\n",
      "Epoch 59/100\n",
      "50/50 [==============================] - 0s 3ms/step - loss: 1.6768 - accuracy: 0.4133\n",
      "Epoch 60/100\n",
      "50/50 [==============================] - 0s 3ms/step - loss: 1.5879 - accuracy: 0.4067\n",
      "Epoch 61/100\n",
      "50/50 [==============================] - 0s 3ms/step - loss: 1.4625 - accuracy: 0.4867\n",
      "Epoch 62/100\n",
      "50/50 [==============================] - 0s 3ms/step - loss: 1.6781 - accuracy: 0.3533\n",
      "Epoch 63/100\n",
      "50/50 [==============================] - 0s 3ms/step - loss: 1.5335 - accuracy: 0.4667\n",
      "Epoch 64/100\n",
      "50/50 [==============================] - 0s 3ms/step - loss: 1.5274 - accuracy: 0.4667\n",
      "Epoch 65/100\n",
      "50/50 [==============================] - 0s 3ms/step - loss: 1.5733 - accuracy: 0.3667\n",
      "Epoch 66/100\n",
      "50/50 [==============================] - 0s 3ms/step - loss: 1.4050 - accuracy: 0.4533\n",
      "Epoch 67/100\n",
      "50/50 [==============================] - 0s 3ms/step - loss: 1.4626 - accuracy: 0.4733\n",
      "Epoch 68/100\n",
      "50/50 [==============================] - 0s 3ms/step - loss: 1.4594 - accuracy: 0.5267\n",
      "Epoch 69/100\n",
      "50/50 [==============================] - 0s 3ms/step - loss: 1.4733 - accuracy: 0.5000\n",
      "Epoch 70/100\n",
      "50/50 [==============================] - 0s 3ms/step - loss: 1.4070 - accuracy: 0.4400\n",
      "Epoch 71/100\n",
      "50/50 [==============================] - 0s 3ms/step - loss: 1.6137 - accuracy: 0.3600\n",
      "Epoch 72/100\n",
      "50/50 [==============================] - 0s 3ms/step - loss: 1.5342 - accuracy: 0.4067\n",
      "Epoch 73/100\n",
      "50/50 [==============================] - 0s 3ms/step - loss: 1.5983 - accuracy: 0.4400\n",
      "Epoch 74/100\n",
      "50/50 [==============================] - 0s 3ms/step - loss: 1.5155 - accuracy: 0.4667\n",
      "Epoch 75/100\n",
      "50/50 [==============================] - 0s 3ms/step - loss: 1.4678 - accuracy: 0.4800\n",
      "Epoch 76/100\n",
      "50/50 [==============================] - 0s 3ms/step - loss: 1.5565 - accuracy: 0.4667\n",
      "Epoch 77/100\n",
      "50/50 [==============================] - 0s 3ms/step - loss: 1.5661 - accuracy: 0.4667\n",
      "Epoch 78/100\n",
      "50/50 [==============================] - 0s 3ms/step - loss: 1.4939 - accuracy: 0.4467\n",
      "Epoch 79/100\n",
      "50/50 [==============================] - 0s 3ms/step - loss: 1.4734 - accuracy: 0.5133\n",
      "Epoch 80/100\n",
      "50/50 [==============================] - 0s 3ms/step - loss: 1.5458 - accuracy: 0.4600\n",
      "Epoch 81/100\n",
      "50/50 [==============================] - 0s 3ms/step - loss: 1.4594 - accuracy: 0.4467\n",
      "Epoch 82/100\n",
      "50/50 [==============================] - 0s 3ms/step - loss: 1.4142 - accuracy: 0.4667\n",
      "Epoch 83/100\n",
      "50/50 [==============================] - 0s 3ms/step - loss: 1.3616 - accuracy: 0.5467\n",
      "Epoch 84/100\n",
      "50/50 [==============================] - 0s 3ms/step - loss: 1.3426 - accuracy: 0.5067\n",
      "Epoch 85/100\n",
      "50/50 [==============================] - 0s 3ms/step - loss: 1.5228 - accuracy: 0.4333\n",
      "Epoch 86/100\n",
      "50/50 [==============================] - 0s 3ms/step - loss: 1.7311 - accuracy: 0.3533\n",
      "Epoch 87/100\n",
      "50/50 [==============================] - 0s 3ms/step - loss: 1.3942 - accuracy: 0.4867\n",
      "Epoch 88/100\n",
      "50/50 [==============================] - 0s 3ms/step - loss: 1.3896 - accuracy: 0.4733\n",
      "Epoch 89/100\n",
      "50/50 [==============================] - 0s 3ms/step - loss: 1.3035 - accuracy: 0.5133\n",
      "Epoch 90/100\n",
      "50/50 [==============================] - 0s 3ms/step - loss: 1.6444 - accuracy: 0.4533\n",
      "Epoch 91/100\n",
      "50/50 [==============================] - 0s 3ms/step - loss: 1.3893 - accuracy: 0.4933\n",
      "Epoch 92/100\n",
      "50/50 [==============================] - 0s 3ms/step - loss: 1.3792 - accuracy: 0.4667\n",
      "Epoch 93/100\n",
      "50/50 [==============================] - 0s 3ms/step - loss: 1.5225 - accuracy: 0.4867\n",
      "Epoch 94/100\n",
      "50/50 [==============================] - 0s 3ms/step - loss: 1.5122 - accuracy: 0.4200\n",
      "Epoch 95/100\n",
      "50/50 [==============================] - 0s 3ms/step - loss: 1.3693 - accuracy: 0.4867\n",
      "Epoch 96/100\n",
      "50/50 [==============================] - 0s 3ms/step - loss: 1.3129 - accuracy: 0.5400\n",
      "Epoch 97/100\n",
      "50/50 [==============================] - 0s 3ms/step - loss: 1.5738 - accuracy: 0.4000\n",
      "Epoch 98/100\n",
      "50/50 [==============================] - 0s 3ms/step - loss: 1.4718 - accuracy: 0.4133\n",
      "Epoch 99/100\n",
      "50/50 [==============================] - 0s 3ms/step - loss: 1.4433 - accuracy: 0.4867\n",
      "Epoch 100/100\n",
      "50/50 [==============================] - 0s 3ms/step - loss: 1.4252 - accuracy: 0.4933\n"
     ]
    }
   ],
   "source": [
    "history1 = cnn.fit(X_train, y_train, epochs=100, steps_per_epoch = 50, batch_size = 3)"
   ]
  },
  {
   "cell_type": "code",
   "execution_count": 34,
   "id": "2d7aa5fa",
   "metadata": {},
   "outputs": [
    {
     "name": "stdout",
     "output_type": "stream",
     "text": [
      "313/313 [==============================] - 1s 4ms/step - loss: 1.4207 - accuracy: 0.4818\n"
     ]
    },
    {
     "data": {
      "text/plain": [
       "[1.420654058456421, 0.48179998993873596]"
      ]
     },
     "execution_count": 34,
     "metadata": {},
     "output_type": "execute_result"
    }
   ],
   "source": [
    "cnn.evaluate(X_test,y_test)"
   ]
  },
  {
   "cell_type": "code",
   "execution_count": 35,
   "id": "10df14c1",
   "metadata": {},
   "outputs": [
    {
     "data": {
      "text/plain": [
       "array([[2.93262098e-02, 2.11419770e-03, 1.50769338e-01, 3.44102323e-01,\n",
       "        2.65090019e-02, 2.87988842e-01, 9.53981131e-02, 1.85567848e-02,\n",
       "        3.34677175e-02, 1.17674051e-02],\n",
       "       [2.30432853e-01, 3.06034293e-02, 2.84814130e-04, 2.27278251e-05,\n",
       "        7.08096195e-05, 3.59747190e-07, 5.48025014e-07, 9.57089696e-07,\n",
       "        7.37349272e-01, 1.23428891e-03],\n",
       "       [2.89973170e-01, 9.70317274e-02, 5.22906426e-03, 2.34699412e-03,\n",
       "        2.65229191e-03, 2.71224009e-04, 1.15850155e-04, 7.56267633e-04,\n",
       "        5.69388688e-01, 3.22346464e-02],\n",
       "       [4.51340854e-01, 1.16449632e-02, 1.16970073e-02, 9.15140030e-04,\n",
       "        3.01827933e-03, 4.81925599e-05, 7.62591590e-05, 1.93701868e-04,\n",
       "        5.16228139e-01, 4.83738445e-03],\n",
       "       [3.79529479e-03, 1.92758814e-03, 9.48157236e-02, 3.40892851e-01,\n",
       "        8.60930011e-02, 2.76945055e-01, 1.72627524e-01, 1.75131522e-02,\n",
       "        3.11403279e-03, 2.27569952e-03]], dtype=float32)"
      ]
     },
     "execution_count": 35,
     "metadata": {},
     "output_type": "execute_result"
    }
   ],
   "source": [
    "y_pred = cnn.predict(X_test)\n",
    "y_pred[:5]"
   ]
  },
  {
   "cell_type": "code",
   "execution_count": 36,
   "id": "22f7f723",
   "metadata": {},
   "outputs": [
    {
     "data": {
      "text/plain": [
       "[3, 8, 8, 8, 3]"
      ]
     },
     "execution_count": 36,
     "metadata": {},
     "output_type": "execute_result"
    }
   ],
   "source": [
    "y_classes = [np.argmax(i) for i in y_pred]\n",
    "y_classes[:5]"
   ]
  },
  {
   "cell_type": "code",
   "execution_count": 37,
   "id": "497281cd",
   "metadata": {},
   "outputs": [
    {
     "data": {
      "text/plain": [
       "array([[3],\n",
       "       [8],\n",
       "       [8],\n",
       "       [0],\n",
       "       [6]], dtype=uint8)"
      ]
     },
     "execution_count": 37,
     "metadata": {},
     "output_type": "execute_result"
    }
   ],
   "source": [
    "\n",
    "y_test[:5]"
   ]
  },
  {
   "cell_type": "code",
   "execution_count": 38,
   "id": "7f9d3f3d",
   "metadata": {},
   "outputs": [
    {
     "name": "stdout",
     "output_type": "stream",
     "text": [
      "Sınıflandırma Sonucu : \n",
      "               precision    recall  f1-score   support\n",
      "\n",
      "           0       0.48      0.57      0.52      1000\n",
      "           1       0.64      0.63      0.63      1000\n",
      "           2       0.38      0.33      0.35      1000\n",
      "           3       0.33      0.33      0.33      1000\n",
      "           4       0.58      0.11      0.18      1000\n",
      "           5       0.41      0.52      0.46      1000\n",
      "           6       0.65      0.52      0.58      1000\n",
      "           7       0.47      0.67      0.55      1000\n",
      "           8       0.49      0.63      0.55      1000\n",
      "           9       0.50      0.52      0.51      1000\n",
      "\n",
      "    accuracy                           0.48     10000\n",
      "   macro avg       0.49      0.48      0.47     10000\n",
      "weighted avg       0.49      0.48      0.47     10000\n",
      "\n"
     ]
    }
   ],
   "source": [
    "from sklearn.metrics import confusion_matrix , classification_report\n",
    "print(\"Sınıflandırma Sonucu : \\n\" , classification_report(y_test , y_classes))"
   ]
  },
  {
   "cell_type": "code",
   "execution_count": 39,
   "id": "32437aaf",
   "metadata": {},
   "outputs": [
    {
     "data": {
      "text/plain": [
       "<Figure size 432x288 with 0 Axes>"
      ]
     },
     "execution_count": 39,
     "metadata": {},
     "output_type": "execute_result"
    },
    {
     "data": {
      "image/png": "[encoded data removed]",
      "text/plain": [
       "<Figure size 432x288 with 1 Axes>"
      ]
     },
     "metadata": {
      "needs_background": "light"
     },
     "output_type": "display_data"
    },
    {
     "data": {
      "text/plain": [
       "<Figure size 432x288 with 0 Axes>"
      ]
     },
     "metadata": {},
     "output_type": "display_data"
    }
   ],
   "source": [
    "import matplotlib.pyplot as plt\n",
    "%matplotlib inline\n",
    "\n",
    "accuracy = history1.history['accuracy']\n",
    "loss = history1.history['loss']\n",
    "epochs = range(len(accuracy))\n",
    "\n",
    "plt.plot(epochs, accuracy, 'bo', label='Training accuracy')\n",
    "plt.title('Training ve Validation Accuracy')\n",
    "plt.legend()\n",
    "plt.figure()"
   ]
  },
  {
   "cell_type": "code",
   "execution_count": null,
   "id": "09e7ac84",
   "metadata": {},
   "outputs": [],
   "source": []
  }
 ],
 "metadata": {
  "kernelspec": {
   "display_name": "Python 3 (ipykernel)",
   "language": "python",
   "name": "python3"
  },
  "language_info": {
   "codemirror_mode": {
    "name": "ipython",
    "version": 3
   },
   "file_extension": ".py",
   "mimetype": "text/x-python",
   "name": "python",
   "nbconvert_exporter": "python",
   "pygments_lexer": "ipython3",
   "version": "3.8.12"
  }
 },
 "nbformat": 4,
 "nbformat_minor": 5
}
