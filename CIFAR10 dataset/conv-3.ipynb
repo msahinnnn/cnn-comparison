{
 "cells": [
  {
   "cell_type": "code",
   "execution_count": 14,
   "id": "7f236051",
   "metadata": {},
   "outputs": [],
   "source": [
    "import tensorflow as tf\n",
    "from tensorflow.keras import datasets, layers, models\n",
    "import matplotlib.pyplot as plt\n",
    "import numpy as np"
   ]
  },
  {
   "cell_type": "code",
   "execution_count": 15,
   "id": "e8068a9d",
   "metadata": {},
   "outputs": [
    {
     "data": {
      "text/plain": [
       "(50000, 32, 32, 3)"
      ]
     },
     "execution_count": 15,
     "metadata": {},
     "output_type": "execute_result"
    }
   ],
   "source": [
    "(X_train , y_train),(X_test , y_test) = datasets.cifar10.load_data()\n",
    "X_train.shape"
   ]
  },
  {
   "cell_type": "markdown",
   "id": "5ceb5774",
   "metadata": {},
   "source": [
    "50000 - Training Örneği <br>\n",
    "32x32 - Görsel Boyutları <br>\n",
    "3 - RGB"
   ]
  },
  {
   "cell_type": "code",
   "execution_count": 16,
   "id": "67508962",
   "metadata": {},
   "outputs": [
    {
     "data": {
      "text/plain": [
       "(10000, 32, 32, 3)"
      ]
     },
     "execution_count": 16,
     "metadata": {},
     "output_type": "execute_result"
    }
   ],
   "source": [
    "X_test.shape"
   ]
  },
  {
   "cell_type": "markdown",
   "id": "81071add",
   "metadata": {},
   "source": [
    "10000 - Test Örneği <br>\n",
    "32x32 - Görsel Boyutları <br>\n",
    "3 - RGB"
   ]
  },
  {
   "cell_type": "code",
   "execution_count": 17,
   "id": "15bd5f5f",
   "metadata": {},
   "outputs": [
    {
     "data": {
      "text/plain": [
       "array([[6],\n",
       "       [9],\n",
       "       [9],\n",
       "       [4],\n",
       "       [1]], dtype=uint8)"
      ]
     },
     "execution_count": 17,
     "metadata": {},
     "output_type": "execute_result"
    }
   ],
   "source": [
    "y_train[:5]"
   ]
  },
  {
   "cell_type": "code",
   "execution_count": 18,
   "id": "50404c99",
   "metadata": {},
   "outputs": [
    {
     "data": {
      "text/plain": [
       "array([6, 9, 9, 4, 1], dtype=uint8)"
      ]
     },
     "execution_count": 18,
     "metadata": {},
     "output_type": "execute_result"
    }
   ],
   "source": [
    "y_train = y_train.reshape(-1,)\n",
    "y_train[:5]"
   ]
  },
  {
   "cell_type": "code",
   "execution_count": 19,
   "id": "946ba48d",
   "metadata": {},
   "outputs": [],
   "source": [
    "classes = [\"airplane\",\"automobile\",\"bird\",\"cat\",\"deer\",\"dog\",\"frog\",\"horse\",\"ship\",\"truck\"]"
   ]
  },
  {
   "cell_type": "code",
   "execution_count": 20,
   "id": "b73a05e8",
   "metadata": {},
   "outputs": [
    {
     "data": {
      "text/plain": [
       "'airplane'"
      ]
     },
     "execution_count": 20,
     "metadata": {},
     "output_type": "execute_result"
    }
   ],
   "source": [
    "classes[0]"
   ]
  },
  {
   "cell_type": "code",
   "execution_count": 21,
   "id": "8f6425cc",
   "metadata": {},
   "outputs": [],
   "source": [
    "def gorsel_goster(X, y, index):\n",
    "    plt.figure(figsize = (15,2))\n",
    "    plt.imshow(X[index])\n",
    "    plt.xlabel(classes[y[index]])"
   ]
  },
  {
   "cell_type": "code",
   "execution_count": 22,
   "id": "cf86863c",
   "metadata": {},
   "outputs": [
    {
     "data": {
      "image/png": "[encoded data removed]",
      "text/plain": [
       "<Figure size 1080x144 with 1 Axes>"
      ]
     },
     "metadata": {
      "needs_background": "light"
     },
     "output_type": "display_data"
    }
   ],
   "source": [
    "gorsel_goster(X_train, y_train, 3)"
   ]
  },
  {
   "cell_type": "markdown",
   "id": "1833e87a",
   "metadata": {},
   "source": [
    "RGB kanalı 3 bölümden oluşur. R(kırmızı), G(yeşil) ve B(mavi).<br>\n",
    "Bu üç ayrı kanalın her biri 0 ile 255 arası bir değer alabilir ve böylece <br>\n",
    "renkler oluşturulur.<br>\n",
    "Verisetimizdeki her bir gorselin değerlerini 255'e bölersek, 0 ile 1<br> arasında normalizasyon yapmış oluruz."
   ]
  },
  {
   "cell_type": "code",
   "execution_count": 23,
   "id": "5dd99800",
   "metadata": {},
   "outputs": [],
   "source": [
    "X_train = X_train / 255\n",
    "X_test = X_test / 255"
   ]
  },
  {
   "cell_type": "code",
   "execution_count": 24,
   "id": "a1dd91da",
   "metadata": {},
   "outputs": [],
   "source": [
    "cnn = models.Sequential([\n",
    "    layers.Conv2D(filters=32, kernel_size=(3, 3), activation='relu', input_shape=(32, 32, 3)),\n",
    "    layers.MaxPooling2D((2, 2)),\n",
    "    \n",
    "    layers.Conv2D(filters=64, kernel_size=(3, 3), activation='relu'),\n",
    "    layers.MaxPooling2D((2, 2)),\n",
    "    \n",
    "    layers.Conv2D(filters=128, kernel_size=(3, 3), activation='relu'),\n",
    "    layers.MaxPooling2D((2, 2)),\n",
    "    \n",
    "    layers.Flatten(),\n",
    "    layers.Dense(64, activation='relu'),\n",
    "    layers.Dense(10, activation='softmax')\n",
    "])"
   ]
  },
  {
   "cell_type": "code",
   "execution_count": 27,
   "id": "4eee7782",
   "metadata": {},
   "outputs": [],
   "source": [
    "cnn.compile(optimizer='adam',\n",
    "              loss='sparse_categorical_crossentropy',\n",
    "              metrics=['accuracy'])"
   ]
  },
  {
   "cell_type": "code",
   "execution_count": 28,
   "id": "ce3c983e",
   "metadata": {
    "scrolled": false
   },
   "outputs": [
    {
     "name": "stdout",
     "output_type": "stream",
     "text": [
      "Epoch 1/100\n",
      "50/50 [==============================] - 0s 3ms/step - loss: 2.3162 - accuracy: 0.1200\n",
      "Epoch 2/100\n",
      "50/50 [==============================] - 0s 3ms/step - loss: 2.2983 - accuracy: 0.0933\n",
      "Epoch 3/100\n",
      "50/50 [==============================] - 0s 3ms/step - loss: 2.2778 - accuracy: 0.1600\n",
      "Epoch 4/100\n",
      "50/50 [==============================] - 0s 3ms/step - loss: 2.2436 - accuracy: 0.1800\n",
      "Epoch 5/100\n",
      "50/50 [==============================] - 0s 3ms/step - loss: 2.2336 - accuracy: 0.1200\n",
      "Epoch 6/100\n",
      "50/50 [==============================] - 0s 3ms/step - loss: 2.1498 - accuracy: 0.1600\n",
      "Epoch 7/100\n",
      "50/50 [==============================] - 0s 3ms/step - loss: 2.1547 - accuracy: 0.2467\n",
      "Epoch 8/100\n",
      "50/50 [==============================] - 0s 3ms/step - loss: 2.1183 - accuracy: 0.1800\n",
      "Epoch 9/100\n",
      "50/50 [==============================] - 0s 3ms/step - loss: 2.1128 - accuracy: 0.1533\n",
      "Epoch 10/100\n",
      "50/50 [==============================] - 0s 3ms/step - loss: 2.1221 - accuracy: 0.2200\n",
      "Epoch 11/100\n",
      "50/50 [==============================] - 0s 3ms/step - loss: 2.1223 - accuracy: 0.1800\n",
      "Epoch 12/100\n",
      "50/50 [==============================] - 0s 3ms/step - loss: 2.0150 - accuracy: 0.1800\n",
      "Epoch 13/100\n",
      "50/50 [==============================] - 0s 3ms/step - loss: 2.0401 - accuracy: 0.2067\n",
      "Epoch 14/100\n",
      "50/50 [==============================] - 0s 3ms/step - loss: 2.0190 - accuracy: 0.2400\n",
      "Epoch 15/100\n",
      "50/50 [==============================] - 0s 3ms/step - loss: 2.0695 - accuracy: 0.2333\n",
      "Epoch 16/100\n",
      "50/50 [==============================] - 0s 3ms/step - loss: 2.0202 - accuracy: 0.2267\n",
      "Epoch 17/100\n",
      "50/50 [==============================] - 0s 3ms/step - loss: 2.0091 - accuracy: 0.2200\n",
      "Epoch 18/100\n",
      "50/50 [==============================] - 0s 3ms/step - loss: 1.9537 - accuracy: 0.2267\n",
      "Epoch 19/100\n",
      "50/50 [==============================] - 0s 3ms/step - loss: 1.9552 - accuracy: 0.2933\n",
      "Epoch 20/100\n",
      "50/50 [==============================] - 0s 3ms/step - loss: 1.9664 - accuracy: 0.2133\n",
      "Epoch 21/100\n",
      "50/50 [==============================] - 0s 3ms/step - loss: 1.9391 - accuracy: 0.2733\n",
      "Epoch 22/100\n",
      "50/50 [==============================] - 0s 3ms/step - loss: 1.9306 - accuracy: 0.2333 ETA: 0s - loss: 2.0696 - accuracy: 0.15\n",
      "Epoch 23/100\n",
      "50/50 [==============================] - 0s 3ms/step - loss: 1.8785 - accuracy: 0.3000\n",
      "Epoch 24/100\n",
      "50/50 [==============================] - 0s 3ms/step - loss: 2.0361 - accuracy: 0.2067\n",
      "Epoch 25/100\n",
      "50/50 [==============================] - 0s 3ms/step - loss: 1.8984 - accuracy: 0.2933\n",
      "Epoch 26/100\n",
      "50/50 [==============================] - 0s 3ms/step - loss: 1.8929 - accuracy: 0.2800\n",
      "Epoch 27/100\n",
      "50/50 [==============================] - 0s 3ms/step - loss: 1.8943 - accuracy: 0.2600\n",
      "Epoch 28/100\n",
      "50/50 [==============================] - 0s 3ms/step - loss: 1.9326 - accuracy: 0.2667\n",
      "Epoch 29/100\n",
      "50/50 [==============================] - 0s 3ms/step - loss: 1.8447 - accuracy: 0.2933\n",
      "Epoch 30/100\n",
      "50/50 [==============================] - 0s 3ms/step - loss: 1.8549 - accuracy: 0.3000\n",
      "Epoch 31/100\n",
      "50/50 [==============================] - 0s 3ms/step - loss: 1.8437 - accuracy: 0.3133\n",
      "Epoch 32/100\n",
      "50/50 [==============================] - 0s 3ms/step - loss: 1.7985 - accuracy: 0.2933\n",
      "Epoch 33/100\n",
      "50/50 [==============================] - 0s 3ms/step - loss: 1.9394 - accuracy: 0.2667\n",
      "Epoch 34/100\n",
      "50/50 [==============================] - 0s 3ms/step - loss: 1.8492 - accuracy: 0.2267\n",
      "Epoch 35/100\n",
      "50/50 [==============================] - 0s 3ms/step - loss: 1.8533 - accuracy: 0.3000\n",
      "Epoch 36/100\n",
      "50/50 [==============================] - 0s 3ms/step - loss: 1.8341 - accuracy: 0.3000\n",
      "Epoch 37/100\n",
      "50/50 [==============================] - 0s 3ms/step - loss: 1.8149 - accuracy: 0.3400\n",
      "Epoch 38/100\n",
      "50/50 [==============================] - 0s 3ms/step - loss: 1.8504 - accuracy: 0.2400\n",
      "Epoch 39/100\n",
      "50/50 [==============================] - 0s 3ms/step - loss: 1.6448 - accuracy: 0.4133\n",
      "Epoch 40/100\n",
      "50/50 [==============================] - 0s 3ms/step - loss: 1.8332 - accuracy: 0.2733\n",
      "Epoch 41/100\n",
      "50/50 [==============================] - 0s 4ms/step - loss: 1.7177 - accuracy: 0.3533\n",
      "Epoch 42/100\n",
      "50/50 [==============================] - 0s 3ms/step - loss: 1.9423 - accuracy: 0.2933\n",
      "Epoch 43/100\n",
      "50/50 [==============================] - 0s 3ms/step - loss: 1.7962 - accuracy: 0.3467\n",
      "Epoch 44/100\n",
      "50/50 [==============================] - 0s 3ms/step - loss: 1.8536 - accuracy: 0.3267\n",
      "Epoch 45/100\n",
      "50/50 [==============================] - 0s 4ms/step - loss: 1.8159 - accuracy: 0.3133\n",
      "Epoch 46/100\n",
      "50/50 [==============================] - 0s 3ms/step - loss: 1.7122 - accuracy: 0.3333\n",
      "Epoch 47/100\n",
      "50/50 [==============================] - 0s 3ms/step - loss: 1.7209 - accuracy: 0.3267\n",
      "Epoch 48/100\n",
      "50/50 [==============================] - 0s 3ms/step - loss: 1.6549 - accuracy: 0.3933\n",
      "Epoch 49/100\n",
      "50/50 [==============================] - 0s 3ms/step - loss: 1.7377 - accuracy: 0.3000\n",
      "Epoch 50/100\n",
      "50/50 [==============================] - 0s 3ms/step - loss: 1.7044 - accuracy: 0.4067\n",
      "Epoch 51/100\n",
      "50/50 [==============================] - 0s 3ms/step - loss: 1.7379 - accuracy: 0.3467\n",
      "Epoch 52/100\n",
      "50/50 [==============================] - 0s 3ms/step - loss: 1.8232 - accuracy: 0.2667\n",
      "Epoch 53/100\n",
      "50/50 [==============================] - 0s 3ms/step - loss: 1.7596 - accuracy: 0.3667\n",
      "Epoch 54/100\n",
      "50/50 [==============================] - 0s 3ms/step - loss: 1.7853 - accuracy: 0.3667\n",
      "Epoch 55/100\n",
      "50/50 [==============================] - 0s 3ms/step - loss: 1.5833 - accuracy: 0.3667\n",
      "Epoch 56/100\n",
      "50/50 [==============================] - 0s 3ms/step - loss: 1.7068 - accuracy: 0.3600\n",
      "Epoch 57/100\n",
      "50/50 [==============================] - 0s 4ms/step - loss: 1.6315 - accuracy: 0.3533\n",
      "Epoch 58/100\n",
      "50/50 [==============================] - 0s 4ms/step - loss: 1.6087 - accuracy: 0.4067\n",
      "Epoch 59/100\n",
      "50/50 [==============================] - 0s 3ms/step - loss: 1.7170 - accuracy: 0.3667\n",
      "Epoch 60/100\n",
      "50/50 [==============================] - 0s 3ms/step - loss: 1.6145 - accuracy: 0.4267\n",
      "Epoch 61/100\n",
      "50/50 [==============================] - 0s 3ms/step - loss: 1.5843 - accuracy: 0.4133\n",
      "Epoch 62/100\n",
      "50/50 [==============================] - 0s 3ms/step - loss: 1.5975 - accuracy: 0.3667\n",
      "Epoch 63/100\n",
      "50/50 [==============================] - 0s 4ms/step - loss: 1.5572 - accuracy: 0.4600\n",
      "Epoch 64/100\n",
      "50/50 [==============================] - ETA: 0s - loss: 1.7226 - accuracy: 0.39 - 0s 4ms/step - loss: 1.7011 - accuracy: 0.4000\n",
      "Epoch 65/100\n",
      "50/50 [==============================] - 0s 3ms/step - loss: 1.5578 - accuracy: 0.4600\n",
      "Epoch 66/100\n",
      "50/50 [==============================] - 0s 3ms/step - loss: 1.7149 - accuracy: 0.3800\n",
      "Epoch 67/100\n",
      "50/50 [==============================] - 0s 3ms/step - loss: 1.7183 - accuracy: 0.3867\n",
      "Epoch 68/100\n",
      "50/50 [==============================] - 0s 3ms/step - loss: 1.7221 - accuracy: 0.3867\n",
      "Epoch 69/100\n",
      "50/50 [==============================] - 0s 3ms/step - loss: 1.5489 - accuracy: 0.4733\n",
      "Epoch 70/100\n",
      "50/50 [==============================] - 0s 3ms/step - loss: 1.5455 - accuracy: 0.3600\n",
      "Epoch 71/100\n",
      "50/50 [==============================] - 0s 3ms/step - loss: 1.5368 - accuracy: 0.4800\n",
      "Epoch 72/100\n",
      "50/50 [==============================] - 0s 3ms/step - loss: 1.5970 - accuracy: 0.3800\n",
      "Epoch 73/100\n",
      "50/50 [==============================] - 0s 3ms/step - loss: 1.6864 - accuracy: 0.3733\n",
      "Epoch 74/100\n",
      "50/50 [==============================] - 0s 3ms/step - loss: 1.5339 - accuracy: 0.4200\n",
      "Epoch 75/100\n",
      "50/50 [==============================] - 0s 3ms/step - loss: 1.6296 - accuracy: 0.4333\n",
      "Epoch 76/100\n",
      "50/50 [==============================] - 0s 3ms/step - loss: 1.6160 - accuracy: 0.4133\n",
      "Epoch 77/100\n",
      "50/50 [==============================] - 0s 3ms/step - loss: 1.4729 - accuracy: 0.5133\n",
      "Epoch 78/100\n",
      "50/50 [==============================] - 0s 3ms/step - loss: 1.8488 - accuracy: 0.3200\n",
      "Epoch 79/100\n",
      "50/50 [==============================] - 0s 3ms/step - loss: 1.5787 - accuracy: 0.3800\n",
      "Epoch 80/100\n",
      "50/50 [==============================] - 0s 3ms/step - loss: 1.5111 - accuracy: 0.4600\n",
      "Epoch 81/100\n",
      "50/50 [==============================] - 0s 3ms/step - loss: 1.5473 - accuracy: 0.4467\n",
      "Epoch 82/100\n",
      "50/50 [==============================] - 0s 3ms/step - loss: 1.6659 - accuracy: 0.4067\n",
      "Epoch 83/100\n",
      "50/50 [==============================] - 0s 3ms/step - loss: 1.7146 - accuracy: 0.3533\n",
      "Epoch 84/100\n",
      "50/50 [==============================] - 0s 3ms/step - loss: 1.5938 - accuracy: 0.4133\n",
      "Epoch 85/100\n",
      "50/50 [==============================] - 0s 3ms/step - loss: 1.4985 - accuracy: 0.4533\n",
      "Epoch 86/100\n",
      "50/50 [==============================] - 0s 3ms/step - loss: 1.5828 - accuracy: 0.4000\n",
      "Epoch 87/100\n",
      "50/50 [==============================] - 0s 3ms/step - loss: 1.7098 - accuracy: 0.4000\n",
      "Epoch 88/100\n",
      "50/50 [==============================] - 0s 3ms/step - loss: 1.6099 - accuracy: 0.4267\n",
      "Epoch 89/100\n",
      "50/50 [==============================] - 0s 3ms/step - loss: 1.6367 - accuracy: 0.3667\n",
      "Epoch 90/100\n",
      "50/50 [==============================] - 0s 3ms/step - loss: 1.6991 - accuracy: 0.3533\n",
      "Epoch 91/100\n",
      "50/50 [==============================] - 0s 3ms/step - loss: 1.3340 - accuracy: 0.5067\n",
      "Epoch 92/100\n",
      "50/50 [==============================] - 0s 3ms/step - loss: 1.5555 - accuracy: 0.4467\n",
      "Epoch 93/100\n",
      "50/50 [==============================] - 0s 3ms/step - loss: 1.6806 - accuracy: 0.4067\n",
      "Epoch 94/100\n",
      "50/50 [==============================] - 0s 3ms/step - loss: 1.4706 - accuracy: 0.4667\n",
      "Epoch 95/100\n",
      "50/50 [==============================] - 0s 3ms/step - loss: 1.6432 - accuracy: 0.3800\n",
      "Epoch 96/100\n",
      "50/50 [==============================] - 0s 3ms/step - loss: 1.7020 - accuracy: 0.3667\n",
      "Epoch 97/100\n",
      "50/50 [==============================] - 0s 3ms/step - loss: 1.5104 - accuracy: 0.3867\n",
      "Epoch 98/100\n",
      "50/50 [==============================] - 0s 3ms/step - loss: 1.5184 - accuracy: 0.4667\n",
      "Epoch 99/100\n",
      "50/50 [==============================] - 0s 3ms/step - loss: 1.7628 - accuracy: 0.3067\n",
      "Epoch 100/100\n",
      "50/50 [==============================] - 0s 3ms/step - loss: 1.5893 - accuracy: 0.3933\n"
     ]
    }
   ],
   "source": [
    "history1 = cnn.fit(X_train, y_train, epochs=100, steps_per_epoch = 50, batch_size = 3)"
   ]
  },
  {
   "cell_type": "code",
   "execution_count": 29,
   "id": "ca83e804",
   "metadata": {
    "scrolled": true
   },
   "outputs": [
    {
     "name": "stdout",
     "output_type": "stream",
     "text": [
      "313/313 [==============================] - 2s 5ms/step - loss: 1.5071 - accuracy: 0.4439: 0s - loss: 1.5052 - accuracy: \n"
     ]
    },
    {
     "data": {
      "text/plain": [
       "[1.5070774555206299, 0.4438999891281128]"
      ]
     },
     "execution_count": 29,
     "metadata": {},
     "output_type": "execute_result"
    }
   ],
   "source": [
    "cnn.evaluate(X_test,y_test)"
   ]
  },
  {
   "cell_type": "code",
   "execution_count": 30,
   "id": "ed741c90",
   "metadata": {},
   "outputs": [
    {
     "data": {
      "text/plain": [
       "array([[1.42093757e-02, 2.05363352e-02, 1.02000117e-01, 4.52514589e-01,\n",
       "        4.48653661e-02, 1.48441106e-01, 3.79784070e-02, 4.40853834e-02,\n",
       "        1.19218983e-01, 1.61502641e-02],\n",
       "       [9.50297806e-03, 6.87898636e-01, 2.46850977e-04, 3.33523203e-04,\n",
       "        5.47318719e-04, 2.03422333e-05, 2.34327672e-04, 1.64016819e-04,\n",
       "        1.58853158e-01, 1.42198965e-01],\n",
       "       [8.84266198e-02, 3.48226577e-01, 1.70814674e-02, 2.04881318e-02,\n",
       "        1.71994641e-02, 4.95366985e-03, 1.15356445e-02, 1.09788040e-02,\n",
       "        2.80276626e-01, 2.00833023e-01],\n",
       "       [6.83930516e-02, 9.42807347e-02, 3.54099227e-03, 1.43081986e-03,\n",
       "        2.77194357e-03, 1.08096683e-04, 6.13887620e-04, 4.37786570e-04,\n",
       "        7.78652191e-01, 4.97704260e-02],\n",
       "       [6.76082214e-03, 2.70181592e-03, 1.30349353e-01, 3.49817425e-01,\n",
       "        1.27694264e-01, 2.22330198e-01, 8.30499455e-02, 6.85855523e-02,\n",
       "        6.21005055e-03, 2.50055688e-03]], dtype=float32)"
      ]
     },
     "execution_count": 30,
     "metadata": {},
     "output_type": "execute_result"
    }
   ],
   "source": [
    "y_pred = cnn.predict(X_test)\n",
    "y_pred[:5]"
   ]
  },
  {
   "cell_type": "code",
   "execution_count": 31,
   "id": "b2cd2e30",
   "metadata": {},
   "outputs": [
    {
     "data": {
      "text/plain": [
       "[3, 1, 1, 8, 3]"
      ]
     },
     "execution_count": 31,
     "metadata": {},
     "output_type": "execute_result"
    }
   ],
   "source": [
    "y_classes = [np.argmax(i) for i in y_pred]\n",
    "y_classes[:5]"
   ]
  },
  {
   "cell_type": "code",
   "execution_count": 32,
   "id": "c8537806",
   "metadata": {},
   "outputs": [
    {
     "data": {
      "text/plain": [
       "array([[3],\n",
       "       [8],\n",
       "       [8],\n",
       "       [0],\n",
       "       [6]], dtype=uint8)"
      ]
     },
     "execution_count": 32,
     "metadata": {},
     "output_type": "execute_result"
    }
   ],
   "source": [
    "\n",
    "y_test[:5]"
   ]
  },
  {
   "cell_type": "code",
   "execution_count": 33,
   "id": "fc02dc8f",
   "metadata": {},
   "outputs": [
    {
     "name": "stdout",
     "output_type": "stream",
     "text": [
      "Sınıflandırma Sonucu : \n",
      "               precision    recall  f1-score   support\n",
      "\n",
      "           0       0.58      0.25      0.35      1000\n",
      "           1       0.52      0.76      0.62      1000\n",
      "           2       0.42      0.21      0.28      1000\n",
      "           3       0.26      0.46      0.33      1000\n",
      "           4       0.43      0.28      0.34      1000\n",
      "           5       0.39      0.31      0.35      1000\n",
      "           6       0.58      0.40      0.47      1000\n",
      "           7       0.45      0.63      0.52      1000\n",
      "           8       0.46      0.72      0.56      1000\n",
      "           9       0.57      0.41      0.48      1000\n",
      "\n",
      "    accuracy                           0.44     10000\n",
      "   macro avg       0.47      0.44      0.43     10000\n",
      "weighted avg       0.47      0.44      0.43     10000\n",
      "\n"
     ]
    }
   ],
   "source": [
    "from sklearn.metrics import confusion_matrix , classification_report\n",
    "print(\"Sınıflandırma Sonucu : \\n\" , classification_report(y_test , y_classes))"
   ]
  },
  {
   "cell_type": "code",
   "execution_count": 34,
   "id": "cae060c8",
   "metadata": {},
   "outputs": [
    {
     "data": {
      "text/plain": [
       "<Figure size 432x288 with 0 Axes>"
      ]
     },
     "execution_count": 34,
     "metadata": {},
     "output_type": "execute_result"
    },
    {
     "data": {
      "image/png": "[encoded data removed]",
      "text/plain": [
       "<Figure size 432x288 with 1 Axes>"
      ]
     },
     "metadata": {
      "needs_background": "light"
     },
     "output_type": "display_data"
    },
    {
     "data": {
      "text/plain": [
       "<Figure size 432x288 with 0 Axes>"
      ]
     },
     "metadata": {},
     "output_type": "display_data"
    }
   ],
   "source": [
    "import matplotlib.pyplot as plt\n",
    "%matplotlib inline\n",
    "\n",
    "accuracy = history1.history['accuracy']\n",
    "loss = history1.history['loss']\n",
    "epochs = range(len(accuracy))\n",
    "\n",
    "plt.plot(epochs, accuracy, 'bo', label='Training accuracy')\n",
    "plt.title('Training ve Validation Accuracy')\n",
    "plt.legend()\n",
    "plt.figure()"
   ]
  },
  {
   "cell_type": "code",
   "execution_count": null,
   "id": "2138f263",
   "metadata": {},
   "outputs": [],
   "source": []
  }
 ],
 "metadata": {
  "kernelspec": {
   "display_name": "Python 3 (ipykernel)",
   "language": "python",
   "name": "python3"
  },
  "language_info": {
   "codemirror_mode": {
    "name": "ipython",
    "version": 3
   },
   "file_extension": ".py",
   "mimetype": "text/x-python",
   "name": "python",
   "nbconvert_exporter": "python",
   "pygments_lexer": "ipython3",
   "version": "3.8.12"
  }
 },
 "nbformat": 4,
 "nbformat_minor": 5
}
